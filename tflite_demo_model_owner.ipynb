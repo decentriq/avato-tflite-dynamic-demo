{
 "cells": [
  {
   "cell_type": "markdown",
   "metadata": {},
   "source": [
    "# Model Owner"
   ]
  },
  {
   "cell_type": "markdown",
   "metadata": {},
   "source": [
    "## Model Training"
   ]
  },
  {
   "cell_type": "markdown",
   "metadata": {},
   "source": [
    "### Import dependencies"
   ]
  },
  {
   "cell_type": "code",
   "execution_count": 1,
   "metadata": {},
   "outputs": [],
   "source": [
    "# TensorFlow and tf.keras\n",
    "import tensorflow as tf\n",
    "from tensorflow import keras\n",
    "\n",
    "# Helper libraries\n",
    "import numpy as np\n",
    "import matplotlib.pyplot as plt\n",
    "import os\n",
    "import struct"
   ]
  },
  {
   "cell_type": "markdown",
   "metadata": {},
   "source": [
    "### Directory to save machine learning model"
   ]
  },
  {
   "cell_type": "code",
   "execution_count": 2,
   "metadata": {
    "lines_to_next_cell": 2
   },
   "outputs": [],
   "source": [
    "current_dir = os.path.abspath('')\n",
    "model_dir = os.path.join(current_dir, \"data\")\n",
    "if not os.path.exists(model_dir):\n",
    "    os.makedirs(model_dir)"
   ]
  },
  {
   "cell_type": "markdown",
   "metadata": {},
   "source": [
    "### Load and prepare dataset"
   ]
  },
  {
   "cell_type": "code",
   "execution_count": 3,
   "metadata": {},
   "outputs": [],
   "source": [
    "# Import the Fashion MNIST dataset.\n",
    "fashion_mnist = keras.datasets.fashion_mnist\n",
    "(train_images, train_labels), (test_images, test_labels) = fashion_mnist.load_data()\n",
    "\n",
    "# Preprocess the data: Data normalization.\n",
    "train_images = train_images / 255.0\n",
    "test_images = test_images / 255.0"
   ]
  },
  {
   "cell_type": "markdown",
   "metadata": {},
   "source": [
    "### Check dataset"
   ]
  },
  {
   "cell_type": "code",
   "execution_count": 4,
   "metadata": {},
   "outputs": [
    {
     "data": {
      "text/plain": [
       "(60000, 28, 28)"
      ]
     },
     "execution_count": 4,
     "metadata": {},
     "output_type": "execute_result"
    }
   ],
   "source": [
    "# Explore the data.\n",
    "len(test_labels)\n",
    "# 10000\n",
    "train_images.shape\n",
    "# (60000, 28, 28)"
   ]
  },
  {
   "cell_type": "code",
   "execution_count": 5,
   "metadata": {
    "lines_to_next_cell": 1
   },
   "outputs": [
    {
     "data": {
      "image/png": "[encoded data removed]",
      "text/plain": [
       "<Figure size 432x288 with 2 Axes>"
      ]
     },
     "metadata": {
      "needs_background": "light"
     },
     "output_type": "display_data"
    }
   ],
   "source": [
    "#  Plot one input image.\n",
    "plt.figure()\n",
    "plt.imshow(train_images[0])\n",
    "plt.colorbar()\n",
    "plt.grid(False)\n",
    "plt.show()"
   ]
  },
  {
   "cell_type": "markdown",
   "metadata": {},
   "source": [
    "### Compile and train the model"
   ]
  },
  {
   "cell_type": "code",
   "execution_count": null,
   "metadata": {
    "lines_to_next_cell": 0
   },
   "outputs": [],
   "source": [
    "def train_model(train_images, train_labels):\n",
    "    # Define Keras deep-learning model\n",
    "    model = keras.Sequential(\n",
    "        [\n",
    "            keras.layers.Flatten(input_shape=(28, 28)),\n",
    "            keras.layers.Dense(128, activation=\"relu\"),\n",
    "            keras.layers.Dense(10),\n",
    "            keras.layers.Activation('softmax')\n",
    "        ]\n",
    "    )\n",
    "\n",
    "    # Setup the model for training:\n",
    "    # Loss function — This measures how accurate the model is during\n",
    "    #                 training. You want to minimize this function to\n",
    "    #                 \"steer\" the model in the right direction.\n",
    "    # Optimizer — This is how the model is updated based on the data it\n",
    "    #             sees and its loss function.\n",
    "    # Metrics — Used to monitor the training and testing steps.\n",
    "    #           The following example uses accuracy, the fraction of the\n",
    "    #           images that are correctly classified.\n",
    "    model.compile(\n",
    "        optimizer=\"adam\",\n",
    "        loss=tf.keras.losses.SparseCategoricalCrossentropy(\n",
    "            from_logits=True),\n",
    "        metrics=[\"accuracy\"],\n",
    "    )\n",
    "\n",
    "    # Model training.\n",
    "    model.fit(train_images, train_labels, epochs=10)\n",
    "\n",
    "\n",
    "    return model\n",
    "\n",
    "\n",
    "# Execute training.\n",
    "model = train_model(train_images, train_labels)\n",
    "\n",
    "# Save the model in SavedModel format, if needed.\n",
    "model.save(os.path.join(model_dir,\"MNIST_model_TF\"), save_format=\"tf\")"
   ]
  },
  {
   "cell_type": "markdown",
   "metadata": {},
   "source": [
    "### Load a saved model (in case the model has already been trained and stored)"
   ]
  },
  {
   "cell_type": "code",
   "execution_count": 6,
   "metadata": {},
   "outputs": [],
   "source": [
    "model = keras.models.load_model(os.path.join(model_dir,\"MNIST_model_TF\"))"
   ]
  },
  {
   "cell_type": "markdown",
   "metadata": {},
   "source": [
    "### Evaluate model accuracy"
   ]
  },
  {
   "cell_type": "code",
   "execution_count": 7,
   "metadata": {
    "lines_to_next_cell": 0
   },
   "outputs": [
    {
     "name": "stdout",
     "output_type": "stream",
     "text": [
      "10000/10000 - 0s - loss: 1.6564 - accuracy: 0.8048\n",
      "\n",
      "Test accuracy: 0.8048\n"
     ]
    }
   ],
   "source": [
    "test_loss, test_acc = model.evaluate(\n",
    "    test_images, test_labels, verbose=2\n",
    ")\n",
    "print(\"\\nTest accuracy:\", test_acc)"
   ]
  },
  {
   "cell_type": "markdown",
   "metadata": {},
   "source": [
    "### Make a local single prediction"
   ]
  },
  {
   "cell_type": "code",
   "execution_count": 8,
   "metadata": {},
   "outputs": [
    {
     "data": {
      "text/plain": [
       "array([[3.5808602e-17, 1.7985531e-15, 1.7203463e-16, 2.3079021e-13,\n",
       "        4.0911916e-15, 4.5084374e-04, 1.1734944e-12, 6.0330509e-05,\n",
       "        2.0615051e-11, 9.9948883e-01]], dtype=float32)"
      ]
     },
     "execution_count": 8,
     "metadata": {},
     "output_type": "execute_result"
    }
   ],
   "source": [
    "test_image = test_images[0:1, :, :]\n",
    "prediction = model.predict(test_image)\n",
    "prediction"
   ]
  },
  {
   "cell_type": "markdown",
   "metadata": {},
   "source": [
    "### Convert model to TFLite format"
   ]
  },
  {
   "cell_type": "code",
   "execution_count": 9,
   "metadata": {},
   "outputs": [],
   "source": [
    "# In order to run the model in the Avato enclave it first needs\n",
    "# to be converted into a simpler format called `TFLite`,\n",
    "# also provided and maintained by Google.\n",
    "converter = tf.lite.TFLiteConverter.from_keras_model(model)\n",
    "tflite_model = converter.convert()\n",
    "\n",
    "# Save the TFLite model in flatbuffer format, if necessary\n",
    "with open(os.path.join(model_dir, \"MNIST.fb\"), \"wb\") as f:\n",
    "    f.write(tflite_model)"
   ]
  },
  {
   "cell_type": "markdown",
   "metadata": {},
   "source": [
    "### Load a TFLite model (in case the model has already been converted and stored)"
   ]
  },
  {
   "cell_type": "code",
   "execution_count": 10,
   "metadata": {},
   "outputs": [],
   "source": [
    "with open(os.path.join(model_dir, \"MNIST.fb\"), \"rb\") as f:\n",
    "    tflite_model = f.read()"
   ]
  },
  {
   "cell_type": "markdown",
   "metadata": {},
   "source": [
    "## Model Upload"
   ]
  },
  {
   "cell_type": "markdown",
   "metadata": {},
   "source": [
    "### Import dependencies"
   ]
  },
  {
   "cell_type": "code",
   "execution_count": 11,
   "metadata": {},
   "outputs": [],
   "source": [
    "from avato import Client\n",
    "from avato import Secret\n",
    "from avato_tflite_dynamic import TFLITEDYNAMIC_Instance"
   ]
  },
  {
   "cell_type": "markdown",
   "metadata": {},
   "source": [
    "### Login to avato"
   ]
  },
  {
   "cell_type": "code",
   "execution_count": 12,
   "metadata": {
    "lines_to_next_cell": 0
   },
   "outputs": [],
   "source": [
    "model_owner_client = Client(\n",
    "    username=os.environ[\"MODEL_OWNER_ID\"],\n",
    "    password=os.environ[\"MODEL_OWNER_PASSWORD\"],\n",
    "    instance_types=[TFLITEDYNAMIC_Instance],\n",
    "    backend_host=\"avato-backend.westeurope.cloudapp.azure.com\"\n",
    ")\n",
    "model_owner_client.reset_backend()"
   ]
  },
  {
   "cell_type": "markdown",
   "metadata": {},
   "source": [
    "### Create instance"
   ]
  },
  {
   "cell_type": "code",
   "execution_count": 13,
   "metadata": {},
   "outputs": [
    {
     "name": "stdout",
     "output_type": "stream",
     "text": [
      "e9f5ead0-e814-4f48-8390-b12a182dfc88\n"
     ]
    }
   ],
   "source": [
    "inference_user_id = os.environ[\"INFERENCE_USER_ID\"]\n",
    "model_owner_instance = model_owner_client.create_instance(\n",
    "    \"Inference Demo\",\n",
    "    TFLITEDYNAMIC_Instance.type,\n",
    "    [inference_user_id],\n",
    ")\n",
    "print(model_owner_instance.id)"
   ]
  },
  {
   "cell_type": "markdown",
   "metadata": {},
   "source": [
    "### Check security guarantees"
   ]
  },
  {
   "cell_type": "code",
   "execution_count": 15,
   "metadata": {},
   "outputs": [
    {
     "name": "stdout",
     "output_type": "stream",
     "text": [
      "{\n",
      "    \"certificate\": \"-----BEGIN CERTIFICATE-----\\nMIIEoTCCAwmgAwIBAgIJANEHdl0yo7CWMA0GCSqGSIb3DQEBCwUAMH4xCzAJBgNV\\nBAYTAlVTMQswCQYDVQQIDAJDQTEUMBIGA1UEBwwLU2FudGEgQ2xhcmExGjAYBgNV\\nBAoMEUludGVsIENvcnBvcmF0aW9uMTAwLgYDVQQDDCdJbnRlbCBTR1ggQXR0ZXN0\\nYXRpb24gUmVwb3J0IFNpZ25pbmcgQ0EwHhcNMTYxMTIyMDkzNjU4WhcNMjYxMTIw\\nMDkzNjU4WjB7MQswCQYDVQQGEwJVUzELMAkGA1UECAwCQ0ExFDASBgNVBAcMC1Nh\\nbnRhIENsYXJhMRowGAYDVQQKDBFJbnRlbCBDb3Jwb3JhdGlvbjEtMCsGA1UEAwwk\\nSW50ZWwgU0dYIEF0dGVzdGF0aW9uIFJlcG9ydCBTaWduaW5nMIIBIjANBgkqhkiG\\n9w0BAQEFAAOCAQ8AMIIBCgKCAQEAqXot4OZuphR8nudFrAFiaGxxkgma/Es/BA+t\\nbeCTUR106AL1ENcWA4FX3K+E9BBL0/7X5rj5nIgX/R/1ubhkKWw9gfqPG3KeAtId\\ncv/uTO1yXv50vqaPvE1CRChvzdS/ZEBqQ5oVvLTPZ3VEicQjlytKgN9cLnxbwtuv\\nLUK7eyRPfJW/ksddOzP8VBBniolYnRCD2jrMRZ8nBM2ZWYwnXnwYeOAHV+W9tOhA\\nImwRwKF/95yAsVwd21ryHMJBcGH70qLagZ7Ttyt++qO/6+KAXJuKwZqjRlEtSEz8\\ngZQeFfVYgcwSfo96oSMAzVr7V0L6HSDLRnpb6xxmbPdqNol4tQIDAQABo4GkMIGh\\nMB8GA1UdIwQYMBaAFHhDe3amfrzQr35CN+s1fDuHAVE8MA4GA1UdDwEB/wQEAwIG\\nwDAMBgNVHRMBAf8EAjAAMGAGA1UdHwRZMFcwVaBToFGGT2h0dHA6Ly90cnVzdGVk\\nc2VydmljZXMuaW50ZWwuY29tL2NvbnRlbnQvQ1JML1NHWC9BdHRlc3RhdGlvblJl\\ncG9ydFNpZ25pbmdDQS5jcmwwDQYJKoZIhvcNAQELBQADggGBAGcIthtcK9IVRz4r\\nRq+ZKE+7k50/OxUsmW8aavOzKb0iCx07YQ9rzi5nU73tME2yGRLzhSViFs/LpFa9\\nlpQL6JL1aQwmDR74TxYGBAIi5f4I5TJoCCEqRHz91kpG6Uvyn2tLmnIdJbPE4vYv\\nWLrtXXfFBSSPD4Afn7+3/XUggAlc7oCTizOfbbtOFlYA4g5KcYgS1J2ZAeMQqbUd\\nZseZCcaZZZn65tdqee8UXZlDvx0+NdO0LR+5pFy+juM0wWbu59MvzcmTXbjsi7HY\\n6zd53Yq5K244fwFHRQ8eOB0IWB+4PfM7FeAApZvlfqlKOlLcZL2uyVmzRkyR5yW7\\n2uo9mehX44CiPJ2fse9Y6eQtcfEhMPkmHXI01sN+KwPbpA39+xOsStjhP9N1Y1a2\\ntQAVo+yVgLgV2Hws73Fc0o3wC78qPEA+v2aRs/Be3ZFDgDyghc/1fgU+7C+P6kbq\\nd4poyb6IW8KCJbxfMJvkordNOgOUUxndPHEi/tb/U7uLjLOgPA==\\n-----END CERTIFICATE-----\\n-----BEGIN CERTIFICATE-----\\nMIIFSzCCA7OgAwIBAgIJANEHdl0yo7CUMA0GCSqGSIb3DQEBCwUAMH4xCzAJBgNV\\nBAYTAlVTMQswCQYDVQQIDAJDQTEUMBIGA1UEBwwLU2FudGEgQ2xhcmExGjAYBgNV\\nBAoMEUludGVsIENvcnBvcmF0aW9uMTAwLgYDVQQDDCdJbnRlbCBTR1ggQXR0ZXN0\\nYXRpb24gUmVwb3J0IFNpZ25pbmcgQ0EwIBcNMTYxMTE0MTUzNzMxWhgPMjA0OTEy\\nMzEyMzU5NTlaMH4xCzAJBgNVBAYTAlVTMQswCQYDVQQIDAJDQTEUMBIGA1UEBwwL\\nU2FudGEgQ2xhcmExGjAYBgNVBAoMEUludGVsIENvcnBvcmF0aW9uMTAwLgYDVQQD\\nDCdJbnRlbCBTR1ggQXR0ZXN0YXRpb24gUmVwb3J0IFNpZ25pbmcgQ0EwggGiMA0G\\nCSqGSIb3DQEBAQUAA4IBjwAwggGKAoIBgQCfPGR+tXc8u1EtJzLA10Feu1Wg+p7e\\nLmSRmeaCHbkQ1TF3Nwl3RmpqXkeGzNLd69QUnWovYyVSndEMyYc3sHecGgfinEeh\\nrgBJSEdsSJ9FpaFdesjsxqzGRa20PYdnnfWcCTvFoulpbFR4VBuXnnVLVzkUvlXT\\nL/TAnd8nIZk0zZkFJ7P5LtePvykkar7LcSQO85wtcQe0R1Raf/sQ6wYKaKmFgCGe\\nNpEJUmg4ktal4qgIAxk+QHUxQE42sxViN5mqglB0QJdUot/o9a/V/mMeH8KvOAiQ\\nbyinkNndn+Bgk5sSV5DFgF0DffVqmVMblt5p3jPtImzBIH0QQrXJq39AT8cRwP5H\\nafuVeLHcDsRp6hol4P+ZFIhu8mmbI1u0hH3W/0C2BuYXB5PC+5izFFh/nP0lc2Lf\\n6rELO9LZdnOhpL1ExFOq9H/B8tPQ84T3Sgb4nAifDabNt/zu6MmCGo5U8lwEFtGM\\nRoOaX4AS+909x00lYnmtwsDVWv9vBiJCXRsCAwEAAaOByTCBxjBgBgNVHR8EWTBX\\nMFWgU6BRhk9odHRwOi8vdHJ1c3RlZHNlcnZpY2VzLmludGVsLmNvbS9jb250ZW50\\nL0NSTC9TR1gvQXR0ZXN0YXRpb25SZXBvcnRTaWduaW5nQ0EuY3JsMB0GA1UdDgQW\\nBBR4Q3t2pn680K9+QjfrNXw7hwFRPDAfBgNVHSMEGDAWgBR4Q3t2pn680K9+Qjfr\\nNXw7hwFRPDAOBgNVHQ8BAf8EBAMCAQYwEgYDVR0TAQH/BAgwBgEB/wIBADANBgkq\\nhkiG9w0BAQsFAAOCAYEAeF8tYMXICvQqeXYQITkV2oLJsp6J4JAqJabHWxYJHGir\\nIEqucRiJSSx+HjIJEUVaj8E0QjEud6Y5lNmXlcjqRXaCPOqK0eGRz6hi+ripMtPZ\\nsFNaBwLQVV905SDjAzDzNIDnrcnXyB4gcDFCvwDFKKgLRjOB/WAqgscDUoGq5ZVi\\nzLUzTqiQPmULAQaB9c6Oti6snEFJiCQ67JLyW/E83/frzCmO5Ru6WjU4tmsmy8Ra\\nUd4APK0wZTGtfPXU7w+IBdG5Ez0kE1qzxGQaL4gINJ1zMyleDnbuS8UicjJijvqA\\n152Sq049ESDz+1rRGc2NVEqh1KaGXmtXvqxXcTB+Ljy5Bw2ke0v8iGngFBPqCTVB\\n3op5KBG3RjbF6RRSzwzuWfL7QErNC8WEy5yDVARzTA5+xmBc388v9Dm21HGfcC8O\\nDD+gT9sSpssq0ascmvH49MOgjt1yoysLtdCtJW/9FZpoOypaHx0R+mJTLwPXVMrv\\nDaVzWh5aiEx+idkSGMnX\\n-----END CERTIFICATE-----\\n\",\n",
      "    \"message\": \"{\\\"id\\\":\\\"260497023374033441451957863260896133825\\\",\\\"timestamp\\\":\\\"2020-02-20T10:25:25.306700\\\",\\\"version\\\":3,\\\"epidPseudonym\\\":\\\"yNHQsIvjLJJfMtYLM55y2Hbd5MaANR9dw4sm/k36dEw6aOi6UAD1VcYhYxTcVePkH3vcdm8mUEhcybu0vf3R6l4wCW1Qr+kikqr5Cs2L5wVg43qCD6oXVRTaljzaFmXkSoRKIJFH6tqGZnA2i2IO+9DQ+bD+nKW2/k0uvBPB880=\\\",\\\"isvEnclaveQuoteStatus\\\":\\\"OK\\\",\\\"isvEnclaveQuoteBody\\\":\\\"AgABAH0LAAAKAAkAAAAAAKuZaau4jm9/q5yaUOF8mP8AAAAAAAAAAAAAAAAAAAAADg4CBf+ABwAAAAAAAAAAAAAAAAAAAAAAAAAAAAAAAAAAAAAAAAAAAAAAAAAAAAAABwAAAAAAAAAfAAAAAAAAAJWMjtHsT12BgVes/DtQqNkwbblCWNPkNavV6Wxy7ggcAAAAAAAAAAAAAAAAAAAAAAAAAAAAAAAAAAAAAAAAAACa/8+uR7hI7CyvHEm0soNTHhzEJfk1grNoBuUqQ9eNGgAAAAAAAAAAAAAAAAAAAAAAAAAAAAAAAAAAAAAAAAAAAAAAAAAAAAAAAAAAAAAAAAAAAAAAAAAAAAAAAAAAAAAAAAAAAAAAAAAAAAAAAAAAAAAAAAAAAAAAAAAAAAAAAAAAAAAAAAAAAAAAAAAAAAAAAAAAAAAAAAAAAAAAAAAAAAAAAAAAAAAAAAAAAAAAAAAAAAAAAAAAAAAAAAAAAABMstV1BwmPlz3X351Cc4/eD3SyxkM7mAG72/XXpldJAQAAAAAAAAAAAAAAAAAAAAAAAAAAAAAAAAAAAAAAAAAA\\\"}\",\n",
      "    \"signature\": \"4768edd5e122395d4c1677471ed17ab95f20ffe285dd076d66880b0c79bc080e9c0d779e00078e213869b0e79348b5fdbb8748be0d830a3f55535d6b3228b19d6d8129f6525ef2915a4743646c28ddb0332f9280edf77030a31033a142d62747c42f851ac6c633f0408f65e397ffbd7c3a93e718b94428951b776547617e4eb47f74cdacfd46f03b0d886db087524f2544ee0f6483556f29a038d2bfe2976c1cc03432fc020c89efe870a117f07b25beb216d4f0de044b2280c1c8469cc4ae9f5d2e7e911678714e6cd2068f50bdf93f0c367d4d7fb3a33e27f89dd7c1148069d4253fde15c1114624d208858e2fd76bf7e9aba11b50a7e86400fa45ffd85bb5\"\n",
      "}\n"
     ]
    }
   ],
   "source": [
    "# Validating the fatquote. This step is crucial for all security\n",
    "# guarantees.\n",
    "# It gets and validates the cryptographic proof from the enclave:\n",
    "#\n",
    "# i)   It proves it is a valid SGX enclave (by checking a certificate).\n",
    "# ii)  It compares the hash of the enclave code provided by the user to\n",
    "#      an expected value (to verify what code is running in the enclave).\n",
    "# iii) As part of the proof also a public key is transmitted that allows\n",
    "#      establishing a secure connection into the enclave (as the private\n",
    "#      key is only known to the enclave).\n",
    "#\n",
    "# As we are using a non-production environment, we whitelist debug and\n",
    "# out_of_data flags\n",
    "\n",
    "model_owner_instance.validate_fatquote(\n",
    "    expected_measurement=\"958c8ed1ec4f5d818157acfc3b50a8d9306db94258d3e435abd5e96c72ee081c\",\n",
    "    accept_debug=True,\n",
    ")\n",
    "\n",
    "print(model_owner_instance.fatquote)"
   ]
  },
  {
   "cell_type": "code",
   "execution_count": 16,
   "metadata": {},
   "outputs": [
    {
     "name": "stdout",
     "output_type": "stream",
     "text": [
      "{\n",
      "    \"version\": 2,\n",
      "    \"sign_type\": 1,\n",
      "    \"qe_svn\": 10,\n",
      "    \"pce_svn\": 9,\n",
      "    \"xeid\": 0,\n",
      "    \"epid_group_id\": \"7d0b0000\",\n",
      "    \"basename\": \"ab9969abb88e6f7fab9c9a50e17c98ff00000000000000000000000000000000\",\n",
      "    \"reportdata\": \"4cb2d57507098f973dd7df9d42738fde0f74b2c6433b9801bbdbf5d7a65749010000000000000000000000000000000000000000000000000000000000000000\",\n",
      "    \"cpusvn\": \"0e0e0205ff8007000000000000000000\",\n",
      "    \"mrenclave\": \"958c8ed1ec4f5d818157acfc3b50a8d9306db94258d3e435abd5e96c72ee081c\",\n",
      "    \"mrsigner\": \"9affcfae47b848ec2caf1c49b4b283531e1cc425f93582b36806e52a43d78d1a\",\n",
      "    \"isvprodid\": 0,\n",
      "    \"isvsvn\": 0,\n",
      "    \"flags\": 7\n",
      "}\n"
     ]
    }
   ],
   "source": [
    "#  The quote is part of the fatquote and provides a detailed fingerprint\n",
    "#  of the program and state of the remote machine. For example:\n",
    "#  * using `flags` we can detect if the CPU is running in un-trusted\n",
    "#    debug mode\n",
    "#  * using `*_snv` we can verify if all security patches have been\n",
    "#    deployed to the infrastructure\n",
    "#  * using `mrenclave` we can attest to the exact program being\n",
    "#    executed on the remote machine\n",
    "print(model_owner_instance.quote)"
   ]
  },
  {
   "cell_type": "markdown",
   "metadata": {},
   "source": [
    "### Creating (randomly) a public-private keypair and setting it"
   ]
  },
  {
   "cell_type": "code",
   "execution_count": 17,
   "metadata": {},
   "outputs": [],
   "source": [
    "model_owner_secret = Secret()\n",
    "model_owner_instance.set_secret(model_owner_secret)"
   ]
  },
  {
   "cell_type": "markdown",
   "metadata": {},
   "source": [
    "### Uploading the model"
   ]
  },
  {
   "cell_type": "code",
   "execution_count": 18,
   "metadata": {},
   "outputs": [],
   "source": [
    "# Before uploading, the model is encrypted using the enclave\n",
    "# public key extracted from the fatquote.\n",
    "# The model_owner public key also sent together with the encrypted data.\n",
    "model_owner_instance.upload_model(tflite_model)"
   ]
  },
  {
   "cell_type": "markdown",
   "metadata": {},
   "source": [
    "### Make a local single prediction"
   ]
  },
  {
   "cell_type": "code",
   "execution_count": 19,
   "metadata": {},
   "outputs": [],
   "source": [
    "prediction_remote = model_owner_instance.predict(test_image)"
   ]
  },
  {
   "cell_type": "markdown",
   "metadata": {},
   "source": [
    "### Comparison of results"
   ]
  },
  {
   "cell_type": "code",
   "execution_count": 20,
   "metadata": {},
   "outputs": [
    {
     "name": "stdout",
     "output_type": "stream",
     "text": [
      "Local - Label: 9 with weight: 0.9994888305664062\n",
      "Remote - Label: 9 with weight: 0.9994888305664062\n"
     ]
    }
   ],
   "source": [
    "# Notice the little difference due to the fact that the TFLite model\n",
    "# uses 32-bit precision, (like most models), while the local prediction\n",
    "# is done on 64-bit precision.\n",
    "print(f\"Local - Label: {prediction.argmax()} with weight: {prediction.max()}\")\n",
    "print(\n",
    "    f\"Remote - Label: {prediction_remote.argmax()} with weight: {prediction_remote.max()}\"\n",
    ")"
   ]
  },
  {
   "cell_type": "markdown",
   "metadata": {},
   "source": [
    "### Cleanup the enclave"
   ]
  },
  {
   "cell_type": "code",
   "execution_count": 21,
   "metadata": {},
   "outputs": [],
   "source": [
    "model_owner_instance.delete()\n",
    "assert model_owner_instance.id not in model_owner_client.get_instances()"
   ]
  },
  {
   "cell_type": "code",
   "execution_count": null,
   "metadata": {},
   "outputs": [],
   "source": []
  }
 ],
 "metadata": {
  "jupytext": {
   "cell_metadata_filter": "-all",
   "main_language": "python",
   "notebook_metadata_filter": "-all"
  },
  "kernelspec": {
   "display_name": "Python 3",
   "language": "python",
   "name": "python3"
  },
  "language_info": {
   "codemirror_mode": {
    "name": "ipython",
    "version": 3
   },
   "file_extension": ".py",
   "mimetype": "text/x-python",
   "name": "python",
   "nbconvert_exporter": "python",
   "pygments_lexer": "ipython3",
   "version": "3.7.5rc1"
  }
 },
 "nbformat": 4,
 "nbformat_minor": 4
}
